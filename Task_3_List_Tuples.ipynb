{
 "cells": [
  {
   "cell_type": "markdown",
   "id": "f8c8d287-cd60-4d05-b91e-d504c203be90",
   "metadata": {},
   "source": [
    "### Create an empty list called numbers. Append the numbers 1, 2, and 3 to the list.\n",
    "* Modify the element at index 1 to be 4.\n",
    "* Print the updated list.\n"
   ]
  },
  {
   "cell_type": "code",
   "execution_count": 1,
   "id": "92ff02ea-ff08-4fa8-ab8b-260558408773",
   "metadata": {},
   "outputs": [
    {
     "data": {
      "text/plain": [
       "[1, 4, 3]"
      ]
     },
     "execution_count": 1,
     "metadata": {},
     "output_type": "execute_result"
    }
   ],
   "source": [
    "ls=[]\n",
    "type(ls)\n",
    "for i in range(1,4):\n",
    "    ls.append(i)\n",
    "ls.remove(2)\n",
    "ls.insert(1,4)\n",
    "ls"
   ]
  },
  {
   "cell_type": "markdown",
   "id": "70231ea5-31ab-453d-8944-e550f55470fd",
   "metadata": {},
   "source": [
    "### Create a list called fruits with elements 'apple', 'banana', 'orange', 'mango', and 'kiwi'.\n",
    "* Create a new list by slicing fruits to include only the citrus fruits ('orange' and 'mango\"). * Create a new list called tropical by slicing fruits to include only the tropical fruits ('banana\" and \"kiwi').\n",
    "* Concatenate citrus and tropical lists to create a new list called combined. Print combined.\n"
   ]
  },
  {
   "cell_type": "code",
   "execution_count": 2,
   "id": "6524df4d-9712-49c6-819d-8587ae669f58",
   "metadata": {},
   "outputs": [
    {
     "name": "stdout",
     "output_type": "stream",
     "text": [
      "['orange', 'mango', 'banana', 'kiwi']\n"
     ]
    }
   ],
   "source": [
    "fruits=['apple', 'banana', 'orange', 'mango','kiwi']\n",
    "citrus=fruits[2:4:1]\n",
    "tropical_fruits=fruits[1:5:3]\n",
    "combined=citrus+tropical_fruits\n",
    "print(combined)"
   ]
  },
  {
   "cell_type": "markdown",
   "id": "eea5d723-f2b8-4d3a-bef3-6d9568935473",
   "metadata": {},
   "source": [
    "### Create a list called colors with repeated elements 'red', 'blue', 'red', 'green', 'red'. \n",
    "* Print the number of occurrences of 'red' in the list.\n",
    "* Remove all occurrences of 'red' from the list. Print the updated list."
   ]
  },
  {
   "cell_type": "code",
   "execution_count": 3,
   "id": "7b3e7b83-1fc0-47d8-abcd-feb692718450",
   "metadata": {},
   "outputs": [
    {
     "name": "stdout",
     "output_type": "stream",
     "text": [
      "['blue', 'green']\n"
     ]
    }
   ],
   "source": [
    "colors=[ 'red', 'blue', 'red', 'green', 'red']\n",
    "colors.count('red')\n",
    "while colors.count('red')>0:\n",
    "     colors.remove('red')\n",
    "print(colors)"
   ]
  },
  {
   "cell_type": "markdown",
   "id": "f55fb7ed-0361-4592-a754-f5d6046e1702",
   "metadata": {},
   "source": [
    "### Create a list called groceries with initial items: 'bread', 'milk', 'eggs', 'butter'. Print the final list of groceries.\n",
    "* Add 'cheese' to the end of the list.\n",
    "*  Remove 'milk' from the list.\n",
    "* Insert 'yogurt' at index 1.\n"
   ]
  },
  {
   "cell_type": "code",
   "execution_count": 4,
   "id": "f961a64c-614a-4834-9717-e541aa68e4c9",
   "metadata": {},
   "outputs": [
    {
     "name": "stdout",
     "output_type": "stream",
     "text": [
      "['bread', 'milk', 'eggs', 'butter']\n",
      "['bread', 'milk', 'eggs', 'butter', 'cheese']\n",
      "['bread', 'eggs', 'butter', 'cheese']\n",
      "['bread', 'yogurt', 'eggs', 'butter', 'cheese']\n"
     ]
    }
   ],
   "source": [
    "groceries=['bread', 'milk', 'eggs', 'butter']\n",
    "print(groceries)\n",
    "groceries.append('cheese')\n",
    "print(groceries)\n",
    "groceries.remove('milk')\n",
    "print(groceries)\n",
    "groceries.insert(1,'yogurt')\n",
    "print(groceries)"
   ]
  },
  {
   "cell_type": "markdown",
   "id": "2db22d4a-d5a4-46b4-9b88-a651855d8c73",
   "metadata": {},
   "source": [
    "### Write a program to add item 7000 after 6000 in the following Python List:\n",
    "* list1 = [10, 20, [300, 400, [5000, 6000], 500], 30, 40]\n"
   ]
  },
  {
   "cell_type": "code",
   "execution_count": 5,
   "id": "7f81513d-d24e-4eb1-bac0-f018ae1a4620",
   "metadata": {
    "scrolled": true
   },
   "outputs": [
    {
     "data": {
      "text/plain": [
       "[10, 20, [300, 400, [5000, 6000, 7000], 500], 30, 40]"
      ]
     },
     "execution_count": 5,
     "metadata": {},
     "output_type": "execute_result"
    }
   ],
   "source": [
    "list1 = [10, 20, [300, 400, [5000, 6000], 500], 30, 40]\n",
    "list1[2][2].append(7000)\n",
    "list1\n"
   ]
  },
  {
   "cell_type": "markdown",
   "id": "85a8b40b-8a49-46d5-900d-bc253f820938",
   "metadata": {},
   "source": [
    "### Now that you have a nested list from the above output. \n",
    "Write a program to extend it by adding a sublist [\"h\", \"i\", \"j\"] in such a way that output will look like the following list below.\n",
    "* Expected Output :  [10, 20, [300, 400, [5000, 6000, 7000,\"h\", \"i\", \"j\"], 500], 30, 40]\n"
   ]
  },
  {
   "cell_type": "code",
   "execution_count": 6,
   "id": "2c0cbdff-45d8-4301-b81a-07d0aa671139",
   "metadata": {},
   "outputs": [
    {
     "name": "stdout",
     "output_type": "stream",
     "text": [
      "[10, 20, [300, 400, [5000, 6000, 7000, 'h', 'i', 'j'], 500], 30, 40]\n"
     ]
    }
   ],
   "source": [
    "list1[2][2].extend([\"h\", \"i\", \"j\"])\n",
    "print(list1)"
   ]
  },
  {
   "cell_type": "markdown",
   "id": "6142e9b7-f2ea-49ba-99b9-f09733d3eedb",
   "metadata": {},
   "source": [
    "### You have given a Python list below. Write a program to find value 20 in the list, and if it is present, replace it with 200. Only update the first occurrence of the item.\n",
    "* list1 = [5, 10, 15, 20, 25, 50, 20]\n"
   ]
  },
  {
   "cell_type": "code",
   "execution_count": 7,
   "id": "f915a88b-40cb-49e3-9077-ca32285d80de",
   "metadata": {},
   "outputs": [
    {
     "name": "stdout",
     "output_type": "stream",
     "text": [
      "3\n",
      "[5, 10, 15, 200, 25, 50, 20]\n"
     ]
    }
   ],
   "source": [
    "list2 = [5, 10, 15, 20, 25, 50, 20]\n",
    "if list2.count(20)>=1:\n",
    "    print(list2.index(20))\n",
    "    ind=list2.index(20)\n",
    "    list2[ind]=200\n",
    "print(list2)"
   ]
  },
  {
   "cell_type": "code",
   "execution_count": null,
   "id": "8704a56f-db7b-4e5c-8b77-78ee476b3679",
   "metadata": {},
   "outputs": [],
   "source": []
  },
  {
   "cell_type": "markdown",
   "id": "4d87556e-e141-4278-8683-3db76605f34c",
   "metadata": {},
   "source": [
    "## Tuples:"
   ]
  },
  {
   "cell_type": "markdown",
   "id": "4ab1c6e3-b328-4b89-a5c3-8fb52b0e21db",
   "metadata": {},
   "source": [
    "#### Create a Python tuple containing the names of your favorite fruits. Write a Python program to print each fruit name from the tuple."
   ]
  },
  {
   "cell_type": "code",
   "execution_count": 8,
   "id": "6f52d452-8e17-49a3-8955-da89470b13ae",
   "metadata": {},
   "outputs": [
    {
     "name": "stdout",
     "output_type": "stream",
     "text": [
      "pineapple\n",
      "Sapodilla\n",
      "cherry\n"
     ]
    }
   ],
   "source": [
    "favorite_fruits=('pineapple','Sapodilla','cherry')\n",
    "for fruit in favorite_fruits:\n",
    "    print(fruit)"
   ]
  },
  {
   "cell_type": "markdown",
   "id": "1b01d727-3c37-4038-81d5-c1ad8fba0904",
   "metadata": {},
   "source": [
    "#### Tuple Operations Given two tuples, write a Python program to concatenate them into a single tuple and then find the length of the resulting tuple."
   ]
  },
  {
   "cell_type": "code",
   "execution_count": 9,
   "id": "336bd6e3-bb65-4a61-918e-9466ecacdb62",
   "metadata": {},
   "outputs": [
    {
     "data": {
      "text/plain": [
       "5"
      ]
     },
     "execution_count": 9,
     "metadata": {},
     "output_type": "execute_result"
    }
   ],
   "source": [
    "favorite_veggies=('ladiesfinger','potato')\n",
    "favorites=favorite_fruits+favorite_veggies\n",
    "len(favorites)"
   ]
  },
  {
   "cell_type": "markdown",
   "id": "a4d9d43b-54ea-48ec-84a6-6aebc8dfe4b4",
   "metadata": {},
   "source": [
    "### Tuple and Set Conversion Write a Python program that takes a tuple of integers and converts it into a set. Then, find and print the maximum and minimum value from the set.\n"
   ]
  },
  {
   "cell_type": "code",
   "execution_count": 10,
   "id": "b668c8d2-8ddc-4f1e-8b5e-db82417c9b41",
   "metadata": {},
   "outputs": [
    {
     "name": "stdout",
     "output_type": "stream",
     "text": [
      "MAXIMUM:848 \n",
      " MINIMUM :4\n"
     ]
    }
   ],
   "source": [
    "tip=(4,5,78,45,21,53,848,45,55)\n",
    "set(tip)\n",
    "print(f\"MAXIMUM:{max(tip)}\",'\\n',f\"MINIMUM :{min(tip)}\")"
   ]
  },
  {
   "cell_type": "markdown",
   "id": "89b44818-7ba3-4b6a-9d89-a650167672a4",
   "metadata": {},
   "source": [
    "### Tuple Immutability Explain the concept of immutability in Python tuples with examples. Discuss why tuples are considered immutable data structures.\n"
   ]
  },
  {
   "cell_type": "markdown",
   "id": "b230fc24-53ca-47ff-aa93-333dbbd56db4",
   "metadata": {},
   "source": [
    "### Tuple\n",
    "* Tuple: tuple is a collection datatype which means it can store  multiple datas's\n",
    "* In python when we initalize a tuple we cannot change the length(size),cannot add additional data,remove data.that's the reason it is called immutable data type. \n",
    "* it is because in python when we in initalize a tuple and assign a data to it. it creates an object which stores the data in the memory and it gets hashed."
   ]
  },
  {
   "cell_type": "markdown",
   "id": "28031be3-55e8-4e89-9f98-68dfa94d7066",
   "metadata": {},
   "source": [
    "### Tuple Slicing Given a tuple of 10 elements, write a Python program to print the elements from the 3rd to the 7th position using slicing.\n"
   ]
  },
  {
   "cell_type": "code",
   "execution_count": 11,
   "id": "0e58abc8-ca6b-49be-b648-57e466673ed3",
   "metadata": {},
   "outputs": [
    {
     "data": {
      "text/plain": [
       "(3, 4, 5, 6)"
      ]
     },
     "execution_count": 11,
     "metadata": {},
     "output_type": "execute_result"
    }
   ],
   "source": [
    "tupp=(0,1,2,3,4,5,6,7,8,9)\n",
    "tupp[3:7]"
   ]
  },
  {
   "cell_type": "markdown",
   "id": "b945b6bc-efd9-4f7a-8df0-16c5f4471a5e",
   "metadata": {},
   "source": [
    "### Tuple and Set Combinations Create a tuple containing the names of your friend's favorite movies and a set containing the names of your favorite movies. Write a Python program to find and display common elements"
   ]
  },
  {
   "cell_type": "code",
   "execution_count": 12,
   "id": "95cd436b-8a93-491a-9dac-80d8ff0eb2e0",
   "metadata": {},
   "outputs": [
    {
     "data": {
      "text/plain": [
       "{'death note', 'salaar'}"
      ]
     },
     "execution_count": 12,
     "metadata": {},
     "output_type": "execute_result"
    }
   ],
   "source": [
    "friend_favorite_movies=('bahuballi','salaar','doctor strange','death note')\n",
    "coversion_set=set(friend_favorite_movies)\n",
    "my_favorite_movies={'salaar','robo','one piece','one punch man','death note'}\n",
    "my_favorite_movies.intersection(coversion_set)"
   ]
  },
  {
   "cell_type": "markdown",
   "id": "fc3fefcc-3428-44b5-9041-f0e780ebe74a",
   "metadata": {},
   "source": [
    "### tup=(1,2,3,2,4,5,3,4,2). Count the occurrences of element ‘2’ in the given tuple.\n"
   ]
  },
  {
   "cell_type": "code",
   "execution_count": 13,
   "id": "42d5820b-42b2-4032-a243-3eda1c626c86",
   "metadata": {},
   "outputs": [
    {
     "name": "stdout",
     "output_type": "stream",
     "text": [
      "3\n"
     ]
    }
   ],
   "source": [
    "tup_1=(1,2,3,2,4,5,3,4,2)\n",
    "counter=0\n",
    "# for i in range(0,len(tup_1)):\n",
    "#     if tup_1[i]==2:\n",
    "#         counter+=1\n",
    "# print(counter)\n",
    "print(tup_1.count(2))"
   ]
  },
  {
   "cell_type": "markdown",
   "id": "becc0b82-4f34-442b-ba58-ef6f1c7c8225",
   "metadata": {},
   "source": [
    "### Access value 20 from the tuple, \n",
    "tuple1 = (\"Orange\", [10, 20, 30], (5, 15, 25))\n"
   ]
  },
  {
   "cell_type": "code",
   "execution_count": 14,
   "id": "3f9cf011-f90e-4aaa-b52d-c22c6057ce37",
   "metadata": {},
   "outputs": [
    {
     "name": "stdout",
     "output_type": "stream",
     "text": [
      "1\n",
      "20\n"
     ]
    }
   ],
   "source": [
    "tuple2 = (\"Orange\", [10, 20, 30], (5, 15, 25))\n",
    "print(tuple2[1].index(20))\n",
    "print(tuple2[1][1])"
   ]
  },
  {
   "cell_type": "markdown",
   "id": "2d40ee91-cc66-4b6c-8823-a66daac7722c",
   "metadata": {},
   "source": [
    "### Create a dictionary with key-value pairs for a person's name and age.\n",
    "Add a new key-value pair \"city\" with the value \"Delhi\" to the person dictionary.\n",
    "Remove the key-value pair with the key \"age\" from the person dictionary.\n",
    "Sort the person's dictionary by its keys.\n"
   ]
  },
  {
   "cell_type": "code",
   "execution_count": 15,
   "id": "c56f8a8a-e83f-4871-aa98-245762d435a1",
   "metadata": {},
   "outputs": [
    {
     "name": "stdout",
     "output_type": "stream",
     "text": [
      "{'city': 'Delhi', 'name': ['tillu', 'billu']}\n"
     ]
    }
   ],
   "source": [
    "dictionary={ \"name\": [\"tillu\", \"billu\"],\"age\": [56, 65]}\n",
    "dictionary[\"city\"]=\"Delhi\" \n",
    "dictionary.pop(\"age\")\n",
    "print(dict(sorted(dictionary.items())))"
   ]
  },
  {
   "cell_type": "code",
   "execution_count": null,
   "id": "d3922e1c-ac75-4bab-a7c0-efefcd69af70",
   "metadata": {},
   "outputs": [],
   "source": []
  }
 ],
 "metadata": {
  "kernelspec": {
   "display_name": "Python 3 (ipykernel)",
   "language": "python",
   "name": "python3"
  },
  "language_info": {
   "codemirror_mode": {
    "name": "ipython",
    "version": 3
   },
   "file_extension": ".py",
   "mimetype": "text/x-python",
   "name": "python",
   "nbconvert_exporter": "python",
   "pygments_lexer": "ipython3",
   "version": "3.12.0"
  }
 },
 "nbformat": 4,
 "nbformat_minor": 5
}
