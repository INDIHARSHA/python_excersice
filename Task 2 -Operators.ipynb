{
 "cells": [
  {
   "cell_type": "markdown",
   "id": "6917efb8-1cd7-4e4d-a174-d7ebe2cfc148",
   "metadata": {},
   "source": [
    "### 1.ARITHMETIC OPERATOR \n",
    "#### An arthimetic operator is use to perform mathematical operations on numerical values.like following\n",
    "* 1+3=4 here + is a addition operator\n",
    "* 1-3=-2 here - is a subtraction operator\n",
    "* +,-,\\,%,* etc are the mathematical operations"
   ]
  },
  {
   "cell_type": "code",
   "execution_count": 7,
   "id": "80e3681a-403c-4501-89e3-94ceb967252e",
   "metadata": {},
   "outputs": [
    {
     "name": "stdout",
     "output_type": "stream",
     "text": [
      "60 \n",
      " 20 \n",
      " 800 \n",
      " 2.0 \n",
      " 2 \n",
      " 0 \n",
      " 109951162777600000000000000000000\n"
     ]
    }
   ],
   "source": [
    "num_1=40\n",
    "num_2=20\n",
    "print(num_1+num_2,'\\n',num_1-num_2,'\\n',num_1*num_2,'\\n',num_1/num_2,'\\n',num_1//num_2,'\\n',num_1%num_2,'\\n',num_1**num_2)"
   ]
  },
  {
   "cell_type": "markdown",
   "id": "a78d0199-bfef-4cf4-8e1a-ef641b293d69",
   "metadata": {},
   "source": [
    "### 2.LOGICAL OPERATORS: "
   ]
  },
  {
   "cell_type": "markdown",
   "id": "5986c7db-d0c7-4537-84c1-91a73e5fe760",
   "metadata": {},
   "source": [
    "#### Logical operators are responsible to check the relationship between boolean  values and results the output as either True or False based on the condition.\n",
    "* ( and )operator is used in statisfiying both the cases if statisfied it returns True else False\n",
    "* ( or )operator is used in statisfiying either one of the case if statisfied it returns True else False\n",
    "* and,or,not,^ etc are logical operators."
   ]
  },
  {
   "cell_type": "code",
   "execution_count": 16,
   "id": "bfea2e0b-b4b5-4d33-bb99-95dbb7ff83a6",
   "metadata": {},
   "outputs": [
    {
     "name": "stdout",
     "output_type": "stream",
     "text": [
      "False\n",
      "True\n",
      "False\n"
     ]
    }
   ],
   "source": [
    "is_sunny = True\n",
    "is_warm = False\n",
    "print(is_sunny and is_warm)\n",
    "print(is_sunny or is_warm)\n",
    "print(not is_sunny)"
   ]
  },
  {
   "cell_type": "markdown",
   "id": "a8e6dfb7-476e-44bb-831c-09fbc27f65b4",
   "metadata": {},
   "source": [
    "### 3.COMPARATIVE OPERATORS:"
   ]
  },
  {
   "cell_type": "markdown",
   "id": "e9f24583-fc72-4b00-a5dd-a9aeda552825",
   "metadata": {},
   "source": [
    "#### Comparative operators are the operators which are used to check/compare the values and results the output as either True or False based on the comparesion"
   ]
  },
  {
   "cell_type": "code",
   "execution_count": 19,
   "id": "ed1d1321-f91c-4bc5-83ef-ccfcef115a05",
   "metadata": {},
   "outputs": [
    {
     "name": "stdout",
     "output_type": "stream",
     "text": [
      "False\n",
      "True\n",
      "False\n",
      "True\n",
      "False\n",
      "True\n"
     ]
    }
   ],
   "source": [
    "a=8\n",
    "b=2\n",
    "print(a==b)\n",
    "print(a!=b)\n",
    "print(a<b)\n",
    "print(a>b)\n",
    "print(a<=b)\n",
    "print(a>=b)"
   ]
  },
  {
   "cell_type": "markdown",
   "id": "415f53d2-27cf-4486-9f51-92ef4d5a477b",
   "metadata": {},
   "source": [
    "### 4.Identity Operators:"
   ]
  },
  {
   "cell_type": "markdown",
   "id": "b5ff7dc2-41e9-420f-b568-2f6914da1d64",
   "metadata": {},
   "source": [
    "* print(a is b)---> True\n",
    "* print(a is not b)---> False\n",
    "  "
   ]
  },
  {
   "cell_type": "markdown",
   "id": "0e4fbc81-40f1-4710-a136-05840491b963",
   "metadata": {},
   "source": [
    "* List1 is not List2 (False)because is operators checks the object memory location, both of them are created a separate objects in memory so is operator results in False\n",
    "* (==)(Equalto) operator checks the values of the operator where as (is) operator checks the pointing of the values\\checks objects\n",
    "* ex: a=[10] b=[10] a==b--->True a is b ---> False"
   ]
  },
  {
   "cell_type": "markdown",
   "id": "46f0c944-bd7f-46f5-ab76-111aaa534eba",
   "metadata": {},
   "source": [
    "### 5. Assignment Operators:"
   ]
  },
  {
   "cell_type": "markdown",
   "id": "e90bc981-1e36-4a41-a654-2fcb6c00f330",
   "metadata": {},
   "source": [
    "* 5+3-2 =6"
   ]
  },
  {
   "cell_type": "code",
   "execution_count": 35,
   "id": "08872e04-ed9d-4a4f-93f3-c65b6f7768bb",
   "metadata": {},
   "outputs": [
    {
     "name": "stdout",
     "output_type": "stream",
     "text": [
      "True\n",
      "True\n"
     ]
    }
   ],
   "source": [
    "lst = [10, 20, 30, 40]\n",
    "print(30 in lst)\n",
    "print(50 not in lst)\n"
   ]
  },
  {
   "cell_type": "markdown",
   "id": "7ced8719-a3e2-4f98-9dd9-041cc5b11b80",
   "metadata": {},
   "source": [
    "### 6. Membership Operators:"
   ]
  },
  {
   "cell_type": "markdown",
   "id": "4d67c2e2-202e-4498-8131-bb16f30e6131",
   "metadata": {},
   "source": [
    "* Both are True because in lst = [10, 20, 30, 40] contains 30 (in operator) and does not contain 50 (not in operator)\n",
    "* not in operator checks the current or pointed value for the given argument or value.the output value is a boolean,\n",
    "* Returns True if not present in Variable,returns false if it is present in variable"
   ]
  },
  {
   "cell_type": "code",
   "execution_count": 39,
   "id": "17d5153c-10a5-4b1d-852f-13e018827ee2",
   "metadata": {},
   "outputs": [
    {
     "name": "stdout",
     "output_type": "stream",
     "text": [
      "True \n",
      " False\n"
     ]
    }
   ],
   "source": [
    "not_example=\" this a message to check not in \"\n",
    "print(\"was\" not in not_example,'\\n',\"check\" not in not_example)"
   ]
  },
  {
   "cell_type": "markdown",
   "id": "84910237-5567-4336-b024-051824f14781",
   "metadata": {},
   "source": [
    "###  7.Bitwise Operators:"
   ]
  },
  {
   "cell_type": "code",
   "execution_count": 3,
   "id": "638db9d4-2bc9-41ff-aaed-7f873639e33e",
   "metadata": {},
   "outputs": [
    {
     "name": "stdout",
     "output_type": "stream",
     "text": [
      "2\n"
     ]
    }
   ],
   "source": [
    "a = 6 \n",
    "b = 3 \n",
    "print(a & b)\n"
   ]
  },
  {
   "cell_type": "code",
   "execution_count": 17,
   "id": "f1836ce7-91f5-463d-abdb-24a3e376cb40",
   "metadata": {},
   "outputs": [
    {
     "name": "stdout",
     "output_type": "stream",
     "text": [
      "0b1101\n",
      "13\n"
     ]
    }
   ],
   "source": [
    "a=5\n",
    "b=9\n",
    "c=a|b\n",
    "print(bin(c))\n",
    "print(c)"
   ]
  },
  {
   "cell_type": "markdown",
   "id": "fc570ec4-2a6c-4995-909d-02f5afb51fa8",
   "metadata": {},
   "source": [
    "### The bitwise left shift (<<) and right shift (>>) operators"
   ]
  },
  {
   "cell_type": "markdown",
   "id": "74780829-99f7-421e-a379-f25ba90bd1ab",
   "metadata": {},
   "source": [
    "#### Bitwise Left Shift (<<)\n",
    "Bitwise Left Shift (<<) is use to shift the bits/binary code of a number to left position of the number by 1. that we can convert the resulted binary code to actual number by multiplying the binary code with multiples of 2^n\n",
    "\n",
    "* EX: bin(5)      = 0000 0101\n",
    "* Left Shift (5<<1) = 0000 1010\n",
    "*   -------------->5<<1 = 0000 1010  2^0*0+2^1*1+2^2*0+2^3*1= 2+8=10\n",
    "\n",
    "\n",
    "#### Bitwise Right Shift (>>)\n",
    "Bitwise Right Shift (>>) is used to shift the bits/binary code of a number to the right by n positions.\n",
    "the output results the binary code with multiples of 2^n .\n",
    "* EX: bin(5)      = 0000 0101\n",
    "* Right Shift(5>>1)= 0000 0001\n",
    "*   -------------->5>>1 = (2^0 * 1) = 1"
   ]
  },
  {
   "cell_type": "code",
   "execution_count": null,
   "id": "7549e89a-3df9-4d35-8a1d-67e7ed6d2db0",
   "metadata": {},
   "outputs": [],
   "source": []
  },
  {
   "cell_type": "code",
   "execution_count": null,
   "id": "26682e8f-00c1-4dde-9800-0abb9815f826",
   "metadata": {},
   "outputs": [],
   "source": []
  }
 ],
 "metadata": {
  "kernelspec": {
   "display_name": "Python 3 (ipykernel)",
   "language": "python",
   "name": "python3"
  },
  "language_info": {
   "codemirror_mode": {
    "name": "ipython",
    "version": 3
   },
   "file_extension": ".py",
   "mimetype": "text/x-python",
   "name": "python",
   "nbconvert_exporter": "python",
   "pygments_lexer": "ipython3",
   "version": "3.12.0"
  }
 },
 "nbformat": 4,
 "nbformat_minor": 5
}
