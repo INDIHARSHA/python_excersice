{
 "cells": [
  {
   "cell_type": "markdown",
   "id": "12e3f746-a4ea-4af7-96c5-52f842cd1709",
   "metadata": {},
   "source": [
    "### What is Python? How would you explain its key features and characteristics?\n",
    " Python is a high level Programming language used to communicate with system.it's a oops oriented,interperted,platform independent language."
   ]
  },
  {
   "cell_type": "markdown",
   "id": "3ae79c91-1f2a-440a-aa8f-94ec36177b0c",
   "metadata": {},
   "source": [
    "### List and explain some common applications of Python.\n",
    "python is widely used in data analysis,apps,games,web development."
   ]
  },
  {
   "cell_type": "markdown",
   "id": "75997ead-1bb8-4c51-9eae-cfea4b3cf43a",
   "metadata": {},
   "source": [
    "### Discuss the advantages and disadvantages of using Python as a programming language.\n",
    "ADV- python is a simple human understandable language,can be able to run in any platform,dynamic language\n",
    "\n",
    "\n",
    "DISADV - python speed is low as compared to other language,case sensitive,high memory consumption"
   ]
  },
  {
   "cell_type": "markdown",
   "id": "71bd591b-115b-4817-bad0-908a6646a005",
   "metadata": {},
   "source": [
    "### Explain about identifiers and their rules.\n",
    "An identifier is the name/nomenclature given to certain data type ,assignment goes by the (=) operator\n",
    "\n",
    "identifier should not be named by following\n",
    "- numberical\n",
    "- space in b/w\n",
    "- any keyword\n",
    "- special character"
   ]
  },
  {
   "cell_type": "markdown",
   "id": "344543d9-a181-4986-9f6f-34f672ca4b5a",
   "metadata": {},
   "source": [
    "        my_variable = 25                #### valid\n",
    "        counter = 40.7                  ####  valid\n",
    "        \"_total = \"\"Hello\"\"\"            #### In valid\n",
    "        123abc = 34                     #### In valid\n",
    "        my variable =6.7                #### In valid\n",
    "        \"@count = \"\"hi\"\"\"               #### In valid\n",
    "        \"for = \"\"True\"\"\"                ####  In valid\n",
    "        Name123 = 136                   #### valid\n",
    "        myFunction = True               ####  valid\n",
    "        _data = False                   ####  valid       \n",
    "        \"if_condition? = \"\"Innomatics\"\"\"     #### In  valid\n",
    "        \"class = \"\"Hyderabad\"\"\"         #### In valid\n"
   ]
  },
  {
   "cell_type": "markdown",
   "id": "39b7ebc7-4c50-4cbd-b847-bc20ebb65946",
   "metadata": {},
   "source": [
    "### Identifiers"
   ]
  },
  {
   "cell_type": "code",
   "execution_count": 1,
   "id": "3e396d2b-c746-4afa-8158-ea7c3263402d",
   "metadata": {},
   "outputs": [],
   "source": [
    "x=10\n",
    "_num=5\n",
    "deci=3.14159\n",
    "negative=-0.12345\n",
    "Ee_sala_cup=1000\n",
    "First_program=\"\"\"Hello, World!\"\"\"\n",
    "snake=\"\"\"Python\"\"\"\n",
    "my_progress=\"\"\"I am learning\"\"\"\n",
    "Typo=\"\"\"Text type\"\"\"\n",
    "str1=\"\"\"String\"\"\"\n",
    "im_single=True\n",
    "_Pirate=False"
   ]
  },
  {
   "cell_type": "code",
   "execution_count": null,
   "id": "38d81b10-304c-4ed7-b9dc-fe01052aedf5",
   "metadata": {},
   "outputs": [],
   "source": []
  }
 ],
 "metadata": {
  "kernelspec": {
   "display_name": "Python 3 (ipykernel)",
   "language": "python",
   "name": "python3"
  },
  "language_info": {
   "codemirror_mode": {
    "name": "ipython",
    "version": 3
   },
   "file_extension": ".py",
   "mimetype": "text/x-python",
   "name": "python",
   "nbconvert_exporter": "python",
   "pygments_lexer": "ipython3",
   "version": "3.12.0"
  }
 },
 "nbformat": 4,
 "nbformat_minor": 5
}
